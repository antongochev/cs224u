{
 "cells": [
  {
   "cell_type": "markdown",
   "metadata": {},
   "source": [
    "# Homework and bake-off: Relation extraction using distant supervision"
   ]
  },
  {
   "cell_type": "code",
   "execution_count": null,
   "metadata": {},
   "outputs": [],
   "source": [
    "__author__ = \"Bill MacCartney and Christopher Potts\"\n",
    "__version__ = \"CS224u, Stanford, Fall 2020\""
   ]
  },
  {
   "cell_type": "markdown",
   "metadata": {},
   "source": [
    "## Contents\n",
    "\n",
    "1. [Overview](#Overview)\n",
    "1. [Set-up](#Set-up)\n",
    "1. [Baselines](#Baselines)\n",
    "  1. [Hand-build feature functions](#Hand-build-feature-functions)\n",
    "  1. [Distributed representations](#Distributed-representations)\n",
    "1. [Homework questions](#Homework-questions)\n",
    "  1. [Different model factory [1 points]](#Different-model-factory-[1-points])\n",
    "  1. [Directional unigram features [1.5 points]](#Directional-unigram-features-[1.5-points])\n",
    "  1. [The part-of-speech tags of the \"middle\" words [1.5 points]](#The-part-of-speech-tags-of-the-\"middle\"-words-[1.5-points])\n",
    "  1. [Bag of Synsets [2 points]](#Bag-of-Synsets-[2-points])\n",
    "  1. [Your original system [3 points]](#Your-original-system-[3-points])\n",
    "1. [Bake-off [1 point]](#Bake-off-[1-point])"
   ]
  },
  {
   "cell_type": "markdown",
   "metadata": {},
   "source": [
    "## Overview\n",
    "\n",
    "This homework and associated bake-off are devoted to developing really effective relation extraction systems using distant supervision. \n",
    "\n",
    "As with the previous assignments, this notebook first establishes a baseline system. The initial homework questions ask you to create additional baselines and suggest areas for innovation, and the final homework question asks you to develop an original system for you to enter into the bake-off."
   ]
  },
  {
   "cell_type": "markdown",
   "metadata": {},
   "source": [
    "## Set-up\n",
    "\n",
    "See [the first notebook in this unit](rel_ext_01_task.ipynb#Set-up) for set-up instructions."
   ]
  },
  {
   "cell_type": "code",
   "execution_count": 1,
   "metadata": {},
   "outputs": [],
   "source": [
    "import numpy as np\n",
    "import os\n",
    "import rel_ext\n",
    "from sklearn.linear_model import LogisticRegression\n",
    "import utils"
   ]
  },
  {
   "cell_type": "markdown",
   "metadata": {},
   "source": [
    "As usual, we unite our corpus and KB into a dataset, and create some splits for experimentation:"
   ]
  },
  {
   "cell_type": "code",
   "execution_count": 2,
   "metadata": {},
   "outputs": [],
   "source": [
    "rel_ext_data_home = os.path.join('data', 'rel_ext_data')"
   ]
  },
  {
   "cell_type": "code",
   "execution_count": 3,
   "metadata": {},
   "outputs": [],
   "source": [
    "corpus = rel_ext.Corpus(os.path.join(rel_ext_data_home, 'corpus.tsv.gz'))"
   ]
  },
  {
   "cell_type": "code",
   "execution_count": 4,
   "metadata": {},
   "outputs": [],
   "source": [
    "kb = rel_ext.KB(os.path.join(rel_ext_data_home, 'kb.tsv.gz'))"
   ]
  },
  {
   "cell_type": "code",
   "execution_count": 5,
   "metadata": {},
   "outputs": [],
   "source": [
    "dataset = rel_ext.Dataset(corpus, kb)"
   ]
  },
  {
   "cell_type": "markdown",
   "metadata": {},
   "source": [
    "You are not wedded to this set-up for splits. The bake-off will be conducted on a previously unseen test-set, so all of the data in `dataset` is fair game:"
   ]
  },
  {
   "cell_type": "code",
   "execution_count": 6,
   "metadata": {},
   "outputs": [],
   "source": [
    "splits = dataset.build_splits(\n",
    "    split_names=['tiny', 'train', 'dev'],\n",
    "    split_fracs=[0.01, 0.79, 0.20],\n",
    "    seed=1)"
   ]
  },
  {
   "cell_type": "code",
   "execution_count": 7,
   "metadata": {},
   "outputs": [
    {
     "data": {
      "text/plain": [
       "{'tiny': Corpus with 3,474 examples; KB with 445 triples,\n",
       " 'train': Corpus with 263,285 examples; KB with 36,191 triples,\n",
       " 'dev': Corpus with 64,937 examples; KB with 9,248 triples,\n",
       " 'all': Corpus with 331,696 examples; KB with 45,884 triples}"
      ]
     },
     "execution_count": 7,
     "metadata": {},
     "output_type": "execute_result"
    }
   ],
   "source": [
    "splits"
   ]
  },
  {
   "cell_type": "markdown",
   "metadata": {},
   "source": [
    "## Baselines"
   ]
  },
  {
   "cell_type": "markdown",
   "metadata": {},
   "source": [
    "### Hand-build feature functions"
   ]
  },
  {
   "cell_type": "code",
   "execution_count": 9,
   "metadata": {},
   "outputs": [],
   "source": [
    "def simple_bag_of_words_featurizer(kbt, corpus, feature_counter):\n",
    "    for ex in corpus.get_examples_for_entities(kbt.sbj, kbt.obj):\n",
    "        for word in ex.middle.split(' '):\n",
    "            feature_counter[word] += 1\n",
    "    for ex in corpus.get_examples_for_entities(kbt.obj, kbt.sbj):\n",
    "        for word in ex.middle.split(' '):\n",
    "            feature_counter[word] += 1\n",
    "    return feature_counter"
   ]
  },
  {
   "cell_type": "code",
   "execution_count": 10,
   "metadata": {},
   "outputs": [],
   "source": [
    "featurizers = [simple_bag_of_words_featurizer]"
   ]
  },
  {
   "cell_type": "code",
   "execution_count": 11,
   "metadata": {},
   "outputs": [],
   "source": [
    "model_factory = lambda: LogisticRegression(fit_intercept=True, solver='liblinear', max_iter=200)"
   ]
  },
  {
   "cell_type": "code",
   "execution_count": 48,
   "metadata": {},
   "outputs": [
    {
     "name": "stdout",
     "output_type": "stream",
     "text": [
      "relation              precision     recall    f-score    support       size\n",
      "------------------    ---------  ---------  ---------  ---------  ---------\n",
      "adjoins                   0.850      0.382      0.683        340       5716\n",
      "author                    0.824      0.542      0.746        509       5885\n",
      "capital                   0.567      0.179      0.395         95       5471\n",
      "contains                  0.788      0.598      0.741       3904       9280\n",
      "film_performance          0.789      0.565      0.731        766       6142\n",
      "founders                  0.801      0.392      0.663        380       5756\n",
      "genre                     0.622      0.165      0.400        170       5546\n",
      "has_sibling               0.823      0.242      0.557        499       5875\n",
      "has_spouse                0.881      0.325      0.656        594       5970\n",
      "is_a                      0.688      0.221      0.484        497       5873\n",
      "nationality               0.658      0.166      0.413        301       5677\n",
      "parents                   0.838      0.532      0.752        312       5688\n",
      "place_of_birth            0.701      0.202      0.469        233       5609\n",
      "place_of_death            0.483      0.088      0.255        159       5535\n",
      "profession                0.611      0.178      0.411        247       5623\n",
      "worked_at                 0.737      0.231      0.513        242       5618\n",
      "------------------    ---------  ---------  ---------  ---------  ---------\n",
      "macro-average             0.729      0.313      0.554       9248      95264\n"
     ]
    }
   ],
   "source": [
    "baseline_results = rel_ext.experiment(\n",
    "    splits,\n",
    "    train_split='train',\n",
    "    test_split='dev',\n",
    "    featurizers=featurizers,\n",
    "    model_factory=model_factory,\n",
    "    verbose=True)"
   ]
  },
  {
   "cell_type": "markdown",
   "metadata": {},
   "source": [
    "Studying model weights might yield insights:"
   ]
  },
  {
   "cell_type": "code",
   "execution_count": 49,
   "metadata": {},
   "outputs": [
    {
     "name": "stdout",
     "output_type": "stream",
     "text": [
      "Highest and lowest feature weights for relation adjoins:\n",
      "\n",
      "     2.545 Córdoba\n",
      "     2.436 Taluks\n",
      "     2.431 Valais\n",
      "     ..... .....\n",
      "    -1.182 who\n",
      "    -1.254 country\n",
      "    -1.379 Spain\n",
      "\n",
      "Highest and lowest feature weights for relation author:\n",
      "\n",
      "     3.061 author\n",
      "     2.309 by\n",
      "     2.219 musical\n",
      "     ..... .....\n",
      "    -2.177 developed\n",
      "    -2.277 directed\n",
      "    -2.302 1774\n",
      "\n",
      "Highest and lowest feature weights for relation capital:\n",
      "\n",
      "     3.279 capital\n",
      "     1.610 posted\n",
      "     1.567 Airport\n",
      "     ..... .....\n",
      "    -1.496 ’\n",
      "    -1.636 includes\n",
      "    -1.685 Westminster\n",
      "\n",
      "Highest and lowest feature weights for relation contains:\n",
      "\n",
      "     2.082 third-largest\n",
      "     2.017 within\n",
      "     1.869 suburb\n",
      "     ..... .....\n",
      "    -2.460 who\n",
      "    -2.649 2002\n",
      "    -2.679 band\n",
      "\n",
      "Highest and lowest feature weights for relation film_performance:\n",
      "\n",
      "     4.279 starring\n",
      "     3.578 alongside\n",
      "     3.450 co-starring\n",
      "     ..... .....\n",
      "    -1.882 commonly\n",
      "    -1.903 Aur\n",
      "    -1.998 Westminster\n",
      "\n",
      "Highest and lowest feature weights for relation founders:\n",
      "\n",
      "     3.873 founded\n",
      "     3.820 founder\n",
      "     3.673 co-founder\n",
      "     ..... .....\n",
      "    -1.518 Bauhaus\n",
      "    -1.783 philosopher\n",
      "    -1.991 band\n",
      "\n",
      "Highest and lowest feature weights for relation genre:\n",
      "\n",
      "     2.920 series\n",
      "     2.761 \n",
      "     2.616 movie\n",
      "     ..... .....\n",
      "    -1.437 and\n",
      "    -1.519 ;\n",
      "    -2.022 at\n",
      "\n",
      "Highest and lowest feature weights for relation has_sibling:\n",
      "\n",
      "     4.913 sister\n",
      "     4.864 brother\n",
      "     2.756 nephew\n",
      "     ..... .....\n",
      "    -1.190 from\n",
      "    -1.399 co-founded\n",
      "    -1.751 Her\n",
      "\n",
      "Highest and lowest feature weights for relation has_spouse:\n",
      "\n",
      "     5.539 wife\n",
      "     4.853 husband\n",
      "     4.319 widow\n",
      "     ..... .....\n",
      "    -1.258 on\n",
      "    -1.334 team\n",
      "    -1.389 Betterton\n",
      "\n",
      "Highest and lowest feature weights for relation is_a:\n",
      "\n",
      "     3.367 \n",
      "     2.810 family\n",
      "     2.489 genus\n",
      "     ..... .....\n",
      "    -1.688 pitcher\n",
      "    -1.889 emperor\n",
      "    -3.496 Talpidae\n",
      "\n",
      "Highest and lowest feature weights for relation nationality:\n",
      "\n",
      "     2.884 born\n",
      "     1.870 ruler\n",
      "     1.855 Pinky\n",
      "     ..... .....\n",
      "    -1.366 and\n",
      "    -1.386 or\n",
      "    -1.968 American\n",
      "\n",
      "Highest and lowest feature weights for relation parents:\n",
      "\n",
      "     5.196 son\n",
      "     4.658 daughter\n",
      "     4.482 father\n",
      "     ..... .....\n",
      "    -1.945 Jolie\n",
      "    -1.972 Jahangir\n",
      "    -2.947 Indian\n",
      "\n",
      "Highest and lowest feature weights for relation place_of_birth:\n",
      "\n",
      "     3.925 born\n",
      "     3.113 birthplace\n",
      "     2.950 mayor\n",
      "     ..... .....\n",
      "    -1.656 Indian\n",
      "    -1.719 Westminster\n",
      "    -2.155 Oldham\n",
      "\n",
      "Highest and lowest feature weights for relation place_of_death:\n",
      "\n",
      "     2.330 died\n",
      "     1.938 rebuilt\n",
      "     1.801 Germany\n",
      "     ..... .....\n",
      "    -1.236 and\n",
      "    -1.269 Siege\n",
      "    -1.988 Westminster\n",
      "\n",
      "Highest and lowest feature weights for relation profession:\n",
      "\n",
      "     3.854 \n",
      "     2.310 American\n",
      "     2.271 British\n",
      "     ..... .....\n",
      "    -1.468 emperor\n",
      "    -1.495 Texas\n",
      "    -2.001 on\n",
      "\n",
      "Highest and lowest feature weights for relation worked_at:\n",
      "\n",
      "     3.029 head\n",
      "     3.025 president\n",
      "     2.944 professor\n",
      "     ..... .....\n",
      "    -1.094 introduced\n",
      "    -1.166 coast\n",
      "    -1.679 or\n",
      "\n"
     ]
    }
   ],
   "source": [
    "rel_ext.examine_model_weights(baseline_results)"
   ]
  },
  {
   "cell_type": "markdown",
   "metadata": {},
   "source": [
    "### Distributed representations\n",
    "\n",
    "This simple baseline sums the GloVe vector representations for all of the words in the \"middle\" span and feeds those representations into the standard `LogisticRegression`-based `model_factory`. The crucial parameter that enables this is `vectorize=False`. This essentially says to `rel_ext.experiment` that your featurizer or your model will do the work of turning examples into vectors; in that case, `rel_ext.experiment` just organizes these representations by relation type."
   ]
  },
  {
   "cell_type": "code",
   "execution_count": 50,
   "metadata": {},
   "outputs": [],
   "source": [
    "GLOVE_HOME = os.path.join('data', 'glove.6B')"
   ]
  },
  {
   "cell_type": "code",
   "execution_count": 51,
   "metadata": {},
   "outputs": [],
   "source": [
    "glove_lookup = utils.glove2dict(\n",
    "    os.path.join(GLOVE_HOME, 'glove.6B.300d.txt'))"
   ]
  },
  {
   "cell_type": "code",
   "execution_count": 52,
   "metadata": {},
   "outputs": [],
   "source": [
    "def glove_middle_featurizer(kbt, corpus, np_func=np.sum):\n",
    "    reps = []\n",
    "    for ex in corpus.get_examples_for_entities(kbt.sbj, kbt.obj):\n",
    "        for word in ex.middle.split():\n",
    "            rep = glove_lookup.get(word)\n",
    "            if rep is not None:\n",
    "                reps.append(rep)                        \n",
    "    # A random representation of the right dimensionality if the\n",
    "    # example happens not to overlap with GloVe's vocabulary:\n",
    "    if len(reps) == 0:\n",
    "        dim = len(next(iter(glove_lookup.values())))\n",
    "        return utils.randvec(n=dim)\n",
    "    else:\n",
    "        return np_func(reps, axis=0)"
   ]
  },
  {
   "cell_type": "code",
   "execution_count": 53,
   "metadata": {},
   "outputs": [
    {
     "name": "stdout",
     "output_type": "stream",
     "text": [
      "relation              precision     recall    f-score    support       size\n",
      "------------------    ---------  ---------  ---------  ---------  ---------\n",
      "adjoins                   0.837      0.438      0.708        340       5716\n",
      "author                    0.835      0.436      0.706        509       5885\n",
      "capital                   0.541      0.211      0.412         95       5471\n",
      "contains                  0.659      0.406      0.586       3904       9280\n",
      "film_performance          0.854      0.337      0.653        766       6142\n",
      "founders                  0.783      0.237      0.536        380       5756\n",
      "genre                     0.538      0.082      0.255        170       5546\n",
      "has_sibling               0.787      0.253      0.553        499       5875\n",
      "has_spouse                0.846      0.360      0.666        594       5970\n",
      "is_a                      0.723      0.163      0.429        497       5873\n",
      "nationality               0.691      0.216      0.480        301       5677\n",
      "parents                   0.857      0.423      0.711        312       5688\n",
      "place_of_birth            0.667      0.223      0.477        233       5609\n",
      "place_of_death            0.486      0.113      0.293        159       5535\n",
      "profession                0.717      0.154      0.414        247       5623\n",
      "worked_at                 0.750      0.285      0.566        242       5618\n",
      "------------------    ---------  ---------  ---------  ---------  ---------\n",
      "macro-average             0.723      0.271      0.528       9248      95264\n"
     ]
    }
   ],
   "source": [
    "glove_results = rel_ext.experiment(\n",
    "    splits,\n",
    "    train_split='train',\n",
    "    test_split='dev',\n",
    "    featurizers=[glove_middle_featurizer],\n",
    "    vectorize=False, # Crucial for this featurizer!\n",
    "    verbose=True)"
   ]
  },
  {
   "cell_type": "markdown",
   "metadata": {},
   "source": [
    "With the same basic code design, one can also use the PyTorch models included in the course repo, or write new ones that are better aligned with the task. For those models, it's likely that the featurizer will just return a list of tokens (or perhaps a list of lists of tokens), and the model will map those into vectors using an embedding."
   ]
  },
  {
   "cell_type": "markdown",
   "metadata": {},
   "source": [
    "## Homework questions\n",
    "\n",
    "Please embed your homework responses in this notebook, and do not delete any cells from the notebook. (You are free to add as many cells as you like as part of your responses.)"
   ]
  },
  {
   "cell_type": "markdown",
   "metadata": {},
   "source": [
    "### Different model factory [1 points]\n",
    "\n",
    "The code in `rel_ext` makes it very easy to experiment with other classifier models: one need only redefine the `model_factory` argument. This question asks you to assess a [Support Vector Classifier](https://scikit-learn.org/stable/modules/generated/sklearn.svm.SVC.html).\n",
    "\n",
    "__To submit:__ A wrapper function `run_svm_model_factory` that does the following: \n",
    "\n",
    "1. Uses `rel_ext.experiment` with the model factory set to one based in an `SVC` with `kernel='linear'` and all other arguments left with default values. \n",
    "1. Trains on the 'train' part of `splits`.\n",
    "1. Assesses on the `dev` part of `splits`.\n",
    "1. Uses `featurizers` as defined above. \n",
    "1. Returns the return value of `rel_ext.experiment` for this set-up.\n",
    "\n",
    "The function `test_run_svm_model_factory` will check that your function conforms to these general specifications."
   ]
  },
  {
   "cell_type": "code",
   "execution_count": 54,
   "metadata": {},
   "outputs": [],
   "source": [
    "def run_svm_model_factory():\n",
    "\n",
    "    ##### YOUR CODE HERE\n",
    "    from sklearn.svm import SVC\n",
    "    \n",
    "    svc_model_factory = lambda: SVC(kernel='linear')\n",
    "    \n",
    "    return rel_ext.experiment(splits, train_split='train', test_split='dev',\n",
    "                             featurizers=featurizers, model_factory=svc_model_factory,\n",
    "                             verbose=True)"
   ]
  },
  {
   "cell_type": "code",
   "execution_count": 55,
   "metadata": {},
   "outputs": [],
   "source": [
    "def test_run_svm_model_factory(run_svm_model_factory):\n",
    "    results = run_svm_model_factory()\n",
    "    assert 'featurizers' in results, \\\n",
    "        \"The return value of `run_svm_model_factory` seems not to be correct\"\n",
    "    # Check one of the models to make sure it's an SVC:\n",
    "    assert 'SVC' in results['models']['adjoins'].__class__.__name__, \\\n",
    "        \"It looks like the model factor wasn't set to use an SVC.\""
   ]
  },
  {
   "cell_type": "code",
   "execution_count": 56,
   "metadata": {},
   "outputs": [
    {
     "name": "stdout",
     "output_type": "stream",
     "text": [
      "relation              precision     recall    f-score    support       size\n",
      "------------------    ---------  ---------  ---------  ---------  ---------\n",
      "adjoins                   0.771      0.356      0.625        340       5716\n",
      "author                    0.756      0.607      0.720        509       5885\n",
      "capital                   0.632      0.253      0.486         95       5471\n",
      "contains                  0.783      0.605      0.740       3904       9280\n",
      "film_performance          0.739      0.621      0.712        766       6142\n",
      "founders                  0.728      0.416      0.633        380       5756\n",
      "genre                     0.544      0.253      0.442        170       5546\n",
      "has_sibling               0.747      0.236      0.522        499       5875\n",
      "has_spouse                0.827      0.347      0.648        594       5970\n",
      "is_a                      0.633      0.264      0.494        497       5873\n",
      "nationality               0.524      0.183      0.381        301       5677\n",
      "parents                   0.783      0.603      0.739        312       5688\n",
      "place_of_birth            0.551      0.232      0.432        233       5609\n",
      "place_of_death            0.452      0.119      0.291        159       5535\n",
      "profession                0.561      0.223      0.430        247       5623\n",
      "worked_at                 0.617      0.293      0.506        242       5618\n",
      "------------------    ---------  ---------  ---------  ---------  ---------\n",
      "macro-average             0.666      0.351      0.550       9248      95264\n"
     ]
    }
   ],
   "source": [
    "if 'IS_GRADESCOPE_ENV' not in os.environ:\n",
    "    test_run_svm_model_factory(run_svm_model_factory)"
   ]
  },
  {
   "cell_type": "markdown",
   "metadata": {},
   "source": [
    "### Directional unigram features [1.5 points]\n",
    "\n",
    "The current bag-of-words representation makes no distinction between \"forward\" and \"reverse\" examples. But, intuitively, there is big difference between _X and his son Y_ and _Y and his son X_. This question asks you to modify `simple_bag_of_words_featurizer` to capture these differences. \n",
    "\n",
    "__To submit:__\n",
    "\n",
    "1. A feature function `directional_bag_of_words_featurizer` that is just like `simple_bag_of_words_featurizer` except that it distinguishes \"forward\" and \"reverse\". To do this, you just need to mark each word feature for whether it is derived from a subject–object example or from an object–subject example.  The included function `test_directional_bag_of_words_featurizer` should help verify that you've done this correctly.\n",
    "\n",
    "2. A call to `rel_ext.experiment` with `directional_bag_of_words_featurizer` as the only featurizer. (Aside from this, use all the default values for `rel_ext.experiment` as exemplified above in this notebook.)\n",
    "\n",
    "3. `rel_ext.experiment` returns some of the core objects used in the experiment. How many feature names does the `vectorizer` have for the experiment run in the previous step? Include the code needed for getting this value. (Note: we're partly asking you to figure out how to get this value by using the sklearn documentation, so please don't ask how to do it!)"
   ]
  },
  {
   "cell_type": "code",
   "execution_count": 12,
   "metadata": {},
   "outputs": [
    {
     "name": "stdout",
     "output_type": "stream",
     "text": [
      "relation              precision     recall    f-score    support       size\n",
      "------------------    ---------  ---------  ---------  ---------  ---------\n",
      "adjoins                   0.877      0.421      0.721        340       5716\n",
      "author                    0.831      0.578      0.764        509       5885\n",
      "capital                   0.710      0.232      0.502         95       5471\n",
      "contains                  0.806      0.670      0.774       3904       9280\n",
      "film_performance          0.832      0.646      0.787        766       6142\n",
      "founders                  0.815      0.405      0.678        380       5756\n",
      "genre                     0.750      0.265      0.549        170       5546\n",
      "has_sibling               0.874      0.251      0.584        499       5875\n",
      "has_spouse                0.890      0.354      0.683        594       5970\n",
      "is_a                      0.726      0.245      0.522        497       5873\n",
      "nationality               0.691      0.223      0.486        301       5677\n",
      "parents                   0.860      0.513      0.758        312       5688\n",
      "place_of_birth            0.679      0.236      0.494        233       5609\n",
      "place_of_death            0.500      0.132      0.321        159       5535\n",
      "profession                0.763      0.235      0.526        247       5623\n",
      "worked_at                 0.670      0.269      0.516        242       5618\n",
      "------------------    ---------  ---------  ---------  ---------  ---------\n",
      "macro-average             0.767      0.355      0.604       9248      95264\n"
     ]
    }
   ],
   "source": [
    "def directional_bag_of_words_featurizer(kbt, corpus, feature_counter):\n",
    "    # Append these to the end of the keys you add/access in\n",
    "    # `feature_counter` to distinguish the two orders. You'll\n",
    "    # need to use exactly these strings in order to pass\n",
    "    # `test_directional_bag_of_words_featurizer`.\n",
    "    subject_object_suffix = \"_SO\"\n",
    "    object_subject_suffix = \"_OS\"\n",
    "\n",
    "    ##### YOUR CODE HERE\n",
    "    for ex in corpus.get_examples_for_entities(kbt.sbj, kbt.obj):\n",
    "        for word in ex.middle.split(' '):\n",
    "            feature_counter[word + subject_object_suffix] += 1 \n",
    "    \n",
    "    for ex in corpus.get_examples_for_entities(kbt.obj, kbt.sbj):\n",
    "        for word in ex.middle.split(' '):\n",
    "            feature_counter[word + object_subject_suffix] += 1\n",
    "\n",
    "    return feature_counter\n",
    "\n",
    "\n",
    "# Call to `rel_ext.experiment`:\n",
    "##### YOUR CODE HERE\n",
    "results = rel_ext.experiment(splits, train_split='train', test_split='dev', \n",
    "                             featurizers=[directional_bag_of_words_featurizer],\n",
    "                             model_factory=model_factory, verbose=True)"
   ]
  },
  {
   "cell_type": "code",
   "execution_count": 13,
   "metadata": {},
   "outputs": [],
   "source": [
    "def test_directional_bag_of_words_featurizer(corpus):\n",
    "    from collections import defaultdict\n",
    "    kbt = rel_ext.KBTriple(rel='worked_at', sbj='Randall_Munroe', obj='xkcd')\n",
    "    feature_counter = defaultdict(int)\n",
    "    # Make sure `feature_counter` is being updated, not reinitialized:\n",
    "    feature_counter['is_OS'] += 5\n",
    "    feature_counter = directional_bag_of_words_featurizer(kbt, corpus, feature_counter)\n",
    "    expected = defaultdict(\n",
    "        int, {'is_OS':6,'a_OS':1,'webcomic_OS':1,'created_OS':1,'by_OS':1})\n",
    "    assert feature_counter == expected, \\\n",
    "        \"Expected:\\n{}\\nGot:\\n{}\".format(expected, feature_counter)"
   ]
  },
  {
   "cell_type": "code",
   "execution_count": 14,
   "metadata": {},
   "outputs": [],
   "source": [
    "if 'IS_GRADESCOPE_ENV' not in os.environ:\n",
    "    test_directional_bag_of_words_featurizer(corpus)"
   ]
  },
  {
   "cell_type": "markdown",
   "metadata": {},
   "source": [
    "### The part-of-speech tags of the \"middle\" words [1.5 points]\n",
    "\n",
    "Our corpus distribution contains part-of-speech (POS) tagged versions of the core text spans. Let's begin to explore whether there is information in these sequences, focusing on `middle_POS`.\n",
    "\n",
    "__To submit:__\n",
    "\n",
    "1. A feature function `middle_bigram_pos_tag_featurizer` that is just like `simple_bag_of_words_featurizer` except that it creates a feature for bigram POS sequences. For example, given \n",
    "\n",
    "  `The/DT dog/N napped/V`\n",
    "  \n",
    "   we obtain the list of bigram POS sequences\n",
    "  \n",
    "   `b = ['<s> DT', 'DT N', 'N V', 'V </s>']`. \n",
    "   \n",
    "   Of course, `middle_bigram_pos_tag_featurizer` should return count dictionaries defined in terms of such bigram POS lists, on the model of `simple_bag_of_words_featurizer`.  Don't forget the start and end tags, to model those environments properly! The included function `test_middle_bigram_pos_tag_featurizer` should help verify that you've done this correctly.\n",
    "\n",
    "2. A call to `rel_ext.experiment` with `middle_bigram_pos_tag_featurizer` as the only featurizer. (Aside from this, use all the default values for `rel_ext.experiment` as exemplified above in this notebook.)"
   ]
  },
  {
   "cell_type": "code",
   "execution_count": 15,
   "metadata": {},
   "outputs": [
    {
     "name": "stdout",
     "output_type": "stream",
     "text": [
      "relation              precision     recall    f-score    support       size\n",
      "------------------    ---------  ---------  ---------  ---------  ---------\n",
      "adjoins                   0.847      0.374      0.676        340       5716\n",
      "author                    0.735      0.316      0.581        509       5885\n",
      "capital                   0.500      0.137      0.327         95       5471\n",
      "contains                  0.757      0.594      0.718       3904       9280\n",
      "film_performance          0.697      0.433      0.622        766       6142\n",
      "founders                  0.533      0.168      0.372        380       5756\n",
      "genre                     0.532      0.147      0.349        170       5546\n",
      "has_sibling               0.669      0.170      0.422        499       5875\n",
      "has_spouse                0.785      0.290      0.585        594       5970\n",
      "is_a                      0.609      0.141      0.366        497       5873\n",
      "nationality               0.396      0.063      0.193        301       5677\n",
      "parents                   0.662      0.276      0.517        312       5688\n",
      "place_of_birth            0.597      0.172      0.399        233       5609\n",
      "place_of_death            0.455      0.094      0.258        159       5535\n",
      "profession                0.655      0.146      0.385        247       5623\n",
      "worked_at                 0.446      0.120      0.289        242       5618\n",
      "------------------    ---------  ---------  ---------  ---------  ---------\n",
      "macro-average             0.617      0.228      0.441       9248      95264\n"
     ]
    }
   ],
   "source": [
    "def middle_bigram_pos_tag_featurizer(kbt, corpus, feature_counter):\n",
    "\n",
    "    ##### YOUR CODE HERE\n",
    "    for ex in corpus.get_examples_for_entities(kbt.sbj, kbt.obj):\n",
    "        tags = get_tags(ex.middle_POS)\n",
    "        for tag in get_tag_bigrams(tags):\n",
    "            feature_counter[tag] += 1\n",
    "    \n",
    "    for ex in corpus.get_examples_for_entities(kbt.obj, kbt.sbj):\n",
    "        tags = get_tags(ex.middle_POS)\n",
    "        for tag in get_tag_bigrams(tags):\n",
    "            feature_counter[tag] += 1\n",
    "\n",
    "    return feature_counter\n",
    "\n",
    "\n",
    "def get_tag_bigrams(tags):\n",
    "    \"\"\"Suggested helper method for `middle_bigram_pos_tag_featurizer`.\n",
    "    This should be defined so that it returns a list of str, where each\n",
    "    element is a POS bigram.\"\"\"\n",
    "    # The values of `start_symbol` and `end_symbol` are defined\n",
    "    # here so that you can use `test_middle_bigram_pos_tag_featurizer`.\n",
    "    start_symbol = \"<s>\"\n",
    "    end_symbol = \"</s>\"\n",
    "\n",
    "    ##### YOUR CODE HERE\n",
    "    result = []\n",
    "    if len(tags) > 0:\n",
    "        result = [start_symbol + ' ' + tags[0]]\n",
    "        for index in range(len(tags) - 1):\n",
    "            result.append(tags[index] + ' ' + tags[index + 1])\n",
    " \n",
    "        result.append(tags[len(tags) - 1] + ' ' + end_symbol)\n",
    "    \n",
    "    return result \n",
    "\n",
    "\n",
    "def get_tags(s):\n",
    "    \"\"\"Given a sequence of word/POS elements (lemmas), this function\n",
    "    returns a list containing just the POS elements, in order.\n",
    "    \"\"\"\n",
    "    return [parse_lem(lem)[1] for lem in s.strip().split(' ') if lem]\n",
    "\n",
    "\n",
    "def parse_lem(lem):\n",
    "    \"\"\"Helper method for parsing word/POS elements. It just splits\n",
    "    on the rightmost / and returns (word, POS) as a tuple of str.\"\"\"\n",
    "    return lem.strip().rsplit('/', 1)\n",
    "\n",
    "# Call to `rel_ext.experiment`:\n",
    "##### YOUR CODE HERE\n",
    "results = rel_ext.experiment(splits, train_split='train', test_split='dev', \n",
    "                             featurizers=[middle_bigram_pos_tag_featurizer],\n",
    "                             model_factory=model_factory, verbose=True)"
   ]
  },
  {
   "cell_type": "code",
   "execution_count": 16,
   "metadata": {},
   "outputs": [],
   "source": [
    "def test_middle_bigram_pos_tag_featurizer(corpus):\n",
    "    from collections import defaultdict\n",
    "    kbt = rel_ext.KBTriple(rel='worked_at', sbj='Randall_Munroe', obj='xkcd')\n",
    "    feature_counter = defaultdict(int)\n",
    "    # Make sure `feature_counter` is being updated, not reinitialized:\n",
    "    feature_counter['<s> VBZ'] += 5\n",
    "    feature_counter = middle_bigram_pos_tag_featurizer(kbt, corpus, feature_counter)\n",
    "    expected = defaultdict(\n",
    "        int, {'<s> VBZ':6,'VBZ DT':1,'DT JJ':1,'JJ VBN':1,'VBN IN':1,'IN </s>':1})\n",
    "    assert feature_counter == expected, \\\n",
    "        \"Expected:\\n{}\\nGot:\\n{}\".format(expected, feature_counter)"
   ]
  },
  {
   "cell_type": "code",
   "execution_count": 17,
   "metadata": {},
   "outputs": [],
   "source": [
    "if 'IS_GRADESCOPE_ENV' not in os.environ:\n",
    "    test_middle_bigram_pos_tag_featurizer(corpus)"
   ]
  },
  {
   "cell_type": "markdown",
   "metadata": {},
   "source": [
    "### Bag of Synsets [2 points]\n",
    "\n",
    "The following allows you to use NLTK's WordNet API to get the synsets compatible with _dog_ as used as a noun:\n",
    "\n",
    "```\n",
    "from nltk.corpus import wordnet as wn\n",
    "dog = wn.synsets('dog', pos='n')\n",
    "dog\n",
    "[Synset('dog.n.01'),\n",
    " Synset('frump.n.01'),\n",
    " Synset('dog.n.03'),\n",
    " Synset('cad.n.01'),\n",
    " Synset('frank.n.02'),\n",
    " Synset('pawl.n.01'),\n",
    " Synset('andiron.n.01')]\n",
    "```\n",
    "\n",
    "This question asks you to create synset-based features from the word/tag pairs in `middle_POS`.\n",
    "\n",
    "__To submit:__\n",
    "\n",
    "1. A feature function `synset_featurizer` that is just like `simple_bag_of_words_featurizer` except that it returns a list of synsets derived from `middle_POS`. Stringify these objects with `str` so that they can be `dict` keys. Use `convert_tag` (included below) to convert tags to `pos` arguments usable by `wn.synsets`. The included function `test_synset_featurizer` should help verify that you've done this correctly.\n",
    "\n",
    "2. A call to `rel_ext.experiment` with `synset_featurizer` as the only featurizer. (Aside from this, use all the default values for `rel_ext.experiment`.)"
   ]
  },
  {
   "cell_type": "code",
   "execution_count": 24,
   "metadata": {},
   "outputs": [
    {
     "name": "stdout",
     "output_type": "stream",
     "text": [
      "relation              precision     recall    f-score    support       size\n",
      "------------------    ---------  ---------  ---------  ---------  ---------\n",
      "adjoins                   0.810      0.326      0.625        340       5716\n",
      "author                    0.761      0.432      0.661        509       5885\n",
      "capital                   0.611      0.232      0.460         95       5471\n",
      "contains                  0.778      0.585      0.730       3904       9280\n",
      "film_performance          0.795      0.548      0.730        766       6142\n",
      "founders                  0.733      0.389      0.623        380       5756\n",
      "genre                     0.493      0.218      0.394        170       5546\n",
      "has_sibling               0.771      0.216      0.510        499       5875\n",
      "has_spouse                0.853      0.311      0.633        594       5970\n",
      "is_a                      0.601      0.233      0.457        497       5873\n",
      "nationality               0.470      0.130      0.308        301       5677\n",
      "parents                   0.799      0.548      0.732        312       5688\n",
      "place_of_birth            0.571      0.206      0.422        233       5609\n",
      "place_of_death            0.444      0.126      0.295        159       5535\n",
      "profession                0.514      0.154      0.350        247       5623\n",
      "worked_at                 0.655      0.227      0.476        242       5618\n",
      "------------------    ---------  ---------  ---------  ---------  ---------\n",
      "macro-average             0.666      0.305      0.525       9248      95264\n"
     ]
    },
    {
     "data": {
      "text/plain": [
       "{'featurizers': [<function __main__.synset_featurizer(kbt, corpus, feature_counter)>],\n",
       " 'vectorizer': DictVectorizer(),\n",
       " 'models': {'adjoins': LogisticRegression(max_iter=200, solver='liblinear'),\n",
       "  'author': LogisticRegression(max_iter=200, solver='liblinear'),\n",
       "  'capital': LogisticRegression(max_iter=200, solver='liblinear'),\n",
       "  'contains': LogisticRegression(max_iter=200, solver='liblinear'),\n",
       "  'film_performance': LogisticRegression(max_iter=200, solver='liblinear'),\n",
       "  'founders': LogisticRegression(max_iter=200, solver='liblinear'),\n",
       "  'genre': LogisticRegression(max_iter=200, solver='liblinear'),\n",
       "  'has_sibling': LogisticRegression(max_iter=200, solver='liblinear'),\n",
       "  'has_spouse': LogisticRegression(max_iter=200, solver='liblinear'),\n",
       "  'is_a': LogisticRegression(max_iter=200, solver='liblinear'),\n",
       "  'nationality': LogisticRegression(max_iter=200, solver='liblinear'),\n",
       "  'parents': LogisticRegression(max_iter=200, solver='liblinear'),\n",
       "  'place_of_birth': LogisticRegression(max_iter=200, solver='liblinear'),\n",
       "  'place_of_death': LogisticRegression(max_iter=200, solver='liblinear'),\n",
       "  'profession': LogisticRegression(max_iter=200, solver='liblinear'),\n",
       "  'worked_at': LogisticRegression(max_iter=200, solver='liblinear')},\n",
       " 'all_relations': ['adjoins',\n",
       "  'author',\n",
       "  'capital',\n",
       "  'contains',\n",
       "  'film_performance',\n",
       "  'founders',\n",
       "  'genre',\n",
       "  'has_sibling',\n",
       "  'has_spouse',\n",
       "  'is_a',\n",
       "  'nationality',\n",
       "  'parents',\n",
       "  'place_of_birth',\n",
       "  'place_of_death',\n",
       "  'profession',\n",
       "  'worked_at'],\n",
       " 'vectorize': True}"
      ]
     },
     "execution_count": 24,
     "metadata": {},
     "output_type": "execute_result"
    }
   ],
   "source": [
    "from nltk.corpus import wordnet as wn\n",
    "\n",
    "def synset_featurizer(kbt, corpus, feature_counter):\n",
    "\n",
    "    ##### YOUR CODE HERE\n",
    "    for ex in corpus.get_examples_for_entities(kbt.sbj, kbt.obj):\n",
    "        synsets = get_synsets(ex.middle_POS)\n",
    "        for s in synsets:\n",
    "            feature_counter[s] += 1\n",
    "    \n",
    "    for ex in corpus.get_examples_for_entities(kbt.obj, kbt.sbj):\n",
    "        synsets = get_synsets(ex.middle_POS)\n",
    "        for s in synsets:\n",
    "            feature_counter[s] += 1\n",
    "\n",
    "    return feature_counter\n",
    "\n",
    "\n",
    "def get_synsets(s):\n",
    "    \"\"\"Suggested helper method for `synset_featurizer`. This should\n",
    "    be completed so that it returns a list of stringified Synsets\n",
    "    associated with elements of `s`.\n",
    "    \"\"\"\n",
    "    # Use `parse_lem` from the previous question to get a list of\n",
    "    # (word, POS) pairs. Remember to convert the POS strings.\n",
    "    wt = [parse_lem(lem) for lem in s.strip().split(' ') if lem]\n",
    "\n",
    "    synsets = []\n",
    "    ##### YOUR CODE HERE\n",
    "    for w, t in wt:\n",
    "        wnt = convert_tag(t)\n",
    "        wns = wn.synsets(w, wnt)\n",
    "        for s in wns:\n",
    "            synsets.append(str(s))\n",
    "\n",
    "    return synsets\n",
    "\n",
    "\n",
    "def convert_tag(t):\n",
    "    \"\"\"Converts tags so that they can be used by WordNet:\n",
    "\n",
    "    | Tag begins with | WordNet tag |\n",
    "    |-----------------|-------------|\n",
    "    | `N`             | `n`         |\n",
    "    | `V`             | `v`         |\n",
    "    | `J`             | `a`         |\n",
    "    | `R`             | `r`         |\n",
    "    | Otherwise       | `None`      |\n",
    "    \"\"\"\n",
    "    if t[0].lower() in {'n', 'v', 'r'}:\n",
    "        return t[0].lower()\n",
    "    elif t[0].lower() == 'j':\n",
    "        return 'a'\n",
    "    else:\n",
    "        return None\n",
    "\n",
    "\n",
    "# Call to `rel_ext.experiment`:\n",
    "##### YOUR CODE HERE\n",
    "results = rel_ext.experiment(splits, train_split='train', test_split='dev', \n",
    "                             featurizers=[synset_featurizer],\n",
    "                             model_factory=model_factory, verbose=True)"
   ]
  },
  {
   "cell_type": "code",
   "execution_count": 25,
   "metadata": {},
   "outputs": [],
   "source": [
    "def test_synset_featurizer(corpus):\n",
    "    from collections import defaultdict\n",
    "    kbt = rel_ext.KBTriple(rel='worked_at', sbj='Randall_Munroe', obj='xkcd')\n",
    "    feature_counter = defaultdict(int)\n",
    "    # Make sure `feature_counter` is being updated, not reinitialized:\n",
    "    feature_counter[\"Synset('be.v.01')\"] += 5\n",
    "    feature_counter = synset_featurizer(kbt, corpus, feature_counter)\n",
    "    # The full return values for this tend to be long, so we just\n",
    "    # test a few examples to avoid cluttering up this notebook.\n",
    "    test_cases = {\n",
    "        \"Synset('be.v.01')\": 6,\n",
    "        \"Synset('embody.v.02')\": 1\n",
    "    }\n",
    "    for ss, expected in test_cases.items():\n",
    "        result = feature_counter[ss]\n",
    "        assert result == expected, \\\n",
    "            \"Incorrect count for {}: Expected {}; Got {}\".format(ss, expected, result)"
   ]
  },
  {
   "cell_type": "code",
   "execution_count": 26,
   "metadata": {},
   "outputs": [],
   "source": [
    "if 'IS_GRADESCOPE_ENV' not in os.environ:\n",
    "    test_synset_featurizer(corpus)"
   ]
  },
  {
   "cell_type": "markdown",
   "metadata": {},
   "source": [
    "### Your original system [3 points]\n",
    "\n",
    "There are many options, and this could easily grow into a project. Here are a few ideas:\n",
    "\n",
    "- Try out different classifier models, from `sklearn` and elsewhere.\n",
    "- Add a feature that indicates the length of the middle.\n",
    "- Augment the bag-of-words representation to include bigrams or trigrams (not just unigrams).\n",
    "- Introduce features based on the entity mentions themselves. <!-- \\[SPOILER: it helps a lot, maybe 4% in F-score. And combines nicely with the directional features.\\] -->\n",
    "- Experiment with features based on the context outside (rather than between) the two entity mentions — that is, the words before the first mention, or after the second.\n",
    "- Try adding features which capture syntactic information, such as the dependency-path features used by Mintz et al. 2009. The [NLTK](https://www.nltk.org/) toolkit contains a variety of [parsing algorithms](http://www.nltk.org/api/nltk.parse.html) that may help.\n",
    "- The bag-of-words representation does not permit generalization across word categories such as names of people, places, or companies. Can we do better using word embeddings such as [GloVe](https://nlp.stanford.edu/projects/glove/)?\n",
    "\n",
    "In the cell below, please provide a brief technical description of your original system, so that the teaching team can gain an understanding of what it does. This will help us to understand your code and analyze all the submissions to identify patterns and strategies. We also ask that you report the best score your system got during development, just to help us understand how systems performed overall."
   ]
  },
  {
   "cell_type": "code",
   "execution_count": 18,
   "metadata": {},
   "outputs": [],
   "source": [
    "# PLEASE MAKE SURE TO INCLUDE THE FOLLOWING BETWEEN THE START AND STOP COMMENTS:\n",
    "#   1) Textual description of your system.\n",
    "#   2) The code for your original system.\n",
    "#   3) The score achieved by your system in place of MY_NUMBER.\n",
    "#        With no other changes to that line.\n",
    "#        You should report your score as a decimal value <=1.0\n",
    "# PLEASE MAKE SURE NOT TO DELETE OR EDIT THE START AND STOP COMMENTS\n",
    "\n",
    "# NOTE: MODULES, CODE AND DATASETS REQUIRED FOR YOUR ORIGINAL SYSTEM \n",
    "# SHOULD BE ADDED BELOW THE 'IS_GRADESCOPE_ENV' CHECK CONDITION. DOING\n",
    "# SO ABOVE THE CHECK MAY CAUSE THE AUTOGRADER TO FAIL.\n",
    "\n",
    "# START COMMENT: Enter your system description in this cell.\n",
    "# My peak score was: 0.728\n",
    "if 'IS_GRADESCOPE_ENV' not in os.environ:\n",
    "    pass\n",
    "\n",
    "#   1) Textual description of your system.\n",
    "# I went experimenting with a couple of classifiers from sklearn and different features \n",
    "# as well as combination of those features.\n",
    "#\n",
    "#   Classifiers\n",
    "# SVC # I tried using SVC with the recommented kernel='linear' and with the defailt RBF.\n",
    "# SVC with RBF performed slightly better (0.03-0.05) than with linear kernel. This was \n",
    "# the case across all combinations of features that were used in the experiment. \n",
    "# This classifier with RBF performed the best with [directional_bag_of_words_featurizer, \n",
    "# middle_length_featurizer, middle_bigram_pos_tag_featurizer and synset_featurizer] \n",
    "# features delivering:\n",
    "# macro-average             0.887 (precision)      0.268 (recall)      0.594 (F-Score)\n",
    "#\n",
    "# Nearest Neigbhors # As SVC with RBF performed better I thought to do an experiment with \n",
    "# Nearest Neigbhors. It performed much better than SVC and Logistic Regression for the recall\n",
    "# but not very well for the precision. As we precision had a double weight this classifier \n",
    "# performed as expected the worst. Its performance only slightly improved with different\n",
    "# features combinations. Its best performance was:\n",
    "# macro-average             0.441 (precision)      0.554 (recall)      0.459 (F-Score)\n",
    "#\n",
    "# Logistic Regression # As in the homework exercises this classifier performed really well with\n",
    "# different features. Its performance (F-Score) continued to increase with adding more features.\n",
    "# This classifier performed the best with [directional_bag_of_words_featurizer, middle_length_featurizer,\n",
    "# middle_bigram_pos_tag_featurizer and synset_featurizer] features delivering:\n",
    "# macro-average             0.726 (precision)     0.414 (recall)      0.617 (F-Score) \n",
    "#\n",
    "# MLP # The last classifier used in the experiments was Multi-layer perception classifier. \n",
    "# It required quite some fine-tuning of the L2 penalty value (regularisation term) and the\n",
    "# learning rate. Eventually, good performance (F-Score) with acceptable (hours) exution speed \n",
    "# was achieved with L2 penalty = 0.05/0.1 and learning rate = 0.01. This classifier performed the best with \n",
    "# [directional_bag_of_words_featurizer, middle_length_featurizer, middle_bigram_pos_tag_featurizer]\n",
    "# features. Surprisingly for me (I am not sure why) adding synset_featurizer feature reduced \n",
    "# slightly its performance. This model delivered:\n",
    "# macro-average             0.767 (precision)      0.614 (recall)      0.728 (F-Score)\n",
    "# macro-average             0.777 (precision)      0.579 (recall)      0.717 (F-Score)\n",
    "#\n",
    "#   Features\n",
    "# I experimented with various features:\n",
    "# - removing stop words from features using left, right and middle (reduced performance)\n",
    "# - features with words from the outside context (reduced performance)\n",
    "# - same as the previous one but directional (reduced performance)\n",
    "# - tried combitaion of the previous point with POS fearures (reduced performance)\n",
    "# - bigrams and trigrams of context words (reduced performance)\n",
    "# - mentions of the entities (no effect on performance due to very small presense)\n",
    "# - glove middle (right and/or left) (SO and/or OS) words featuriser (didn't deliver better \n",
    "# performance with any of the models)\n",
    "# + lenght of the middle (increased performance)\n",
    "# + directional bag of middle words (increased performance)\n",
    "# + bigram pos tags from the middle text (increased performance)\n",
    "# +/- synsets (increased performance except for MLP). This featuriser also significantly \n",
    "# increased the execution time so if no significant performance improvement was observed\n",
    "# it wasn't practical to use it\n",
    "#\n",
    "#\n",
    "#   Original System\n",
    "# It is a very simple system. The solution uses MLP (L2 penalty value = 0.05 and \n",
    "# leanring rate = 0.01) with three features:\n",
    "# - directional bag of words from the middle (context between the entities)\n",
    "# - bigram POS tags from the middle \n",
    "# - length of the middle\n",
    "# The system reuses the code from the homework of the directional_bag_of_words_featurizer\n",
    "# and middle_bigram_pos_tag_featurizer functions, and adds a new middle_length_featurizer one.\n",
    "#\n",
    "#   2) The code for your original system.\n",
    "\n",
    "from sklearn.neural_network import MLPClassifier\n",
    "\n",
    "def middle_length_featurizer(kbt, corpus, feature_counter):\n",
    "    # Featurises the length of the context between the two entities\n",
    "    for ex in corpus.get_examples_for_entities(kbt.sbj, kbt.obj):\n",
    "        feature_counter[str(len(ex.middle))] += 1 \n",
    "    \n",
    "    for ex in corpus.get_examples_for_entities(kbt.obj, kbt.sbj):\n",
    "        feature_counter[str(len(ex.middle))] += 1\n",
    "\n",
    "    return feature_counter\n",
    "\n",
    "def run_model(splits, train_split='tiny', test_split='dev', verbose=False):\n",
    "    mlpc_model_factory = lambda: MLPClassifier(\n",
    "        alpha=0.05, learning_rate_init=0.01, max_iter=500)\n",
    "    \n",
    "    featurisers = [directional_bag_of_words_featurizer,\n",
    "                   middle_length_featurizer,\n",
    "                   middle_bigram_pos_tag_featurizer]\n",
    "    \n",
    "    return rel_ext.experiment(splits, train_split=train_split, test_split=test_split, \n",
    "                              featurizers=featurisers,\n",
    "                              model_factory=mlpc_model_factory,\n",
    "                              verbose=verbose)\n",
    "\n",
    "# STOP COMMENT: Please do not remove this comment."
   ]
  },
  {
   "cell_type": "markdown",
   "metadata": {},
   "source": [
    "## Bake-off [1 point]\n",
    "\n",
    "For the bake-off, we will release a test set. The announcement will go out on the discussion forum. You will evaluate your custom model from the previous question on these new datasets using the function `rel_ext.bake_off_experiment`. Rules:\n",
    "\n",
    "1. Only one evaluation is permitted.\n",
    "1. No additional system tuning is permitted once the bake-off has started.\n",
    "\n",
    "The cells below this one constitute your bake-off entry.\n",
    "\n",
    "People who enter will receive the additional homework point, and people whose systems achieve the top score will receive an additional 0.5 points. We will test the top-performing systems ourselves, and only systems for which we can reproduce the reported results will win the extra 0.5 points.\n",
    "\n",
    "Late entries will be accepted, but they cannot earn the extra 0.5 points. Similarly, you cannot win the bake-off unless your homework is submitted on time.\n",
    "\n",
    "The announcement will include the details on where to submit your entry."
   ]
  },
  {
   "cell_type": "code",
   "execution_count": 21,
   "metadata": {},
   "outputs": [
    {
     "name": "stdout",
     "output_type": "stream",
     "text": [
      "relation              precision     recall    f-score    support       size\n",
      "------------------    ---------  ---------  ---------  ---------  ---------\n",
      "adjoins                   0.827      0.664      0.788        438       7122\n",
      "author                    0.866      0.800      0.852        645       7329\n",
      "capital                   0.689      0.539      0.653        115       6799\n",
      "contains                  0.799      0.761      0.791       3808      10492\n",
      "film_performance          0.823      0.761      0.810       1011       7695\n",
      "founders                  0.781      0.651      0.751        444       7128\n",
      "genre                     0.614      0.431      0.566        188       6872\n",
      "has_sibling               0.825      0.584      0.762        717       7401\n",
      "has_spouse                0.875      0.671      0.824        780       7464\n",
      "is_a                      0.756      0.548      0.703        611       7295\n",
      "nationality               0.660      0.648      0.657        383       7067\n",
      "parents                   0.878      0.808      0.863        427       7111\n",
      "place_of_birth            0.707      0.546      0.668        291       6975\n",
      "place_of_death            0.623      0.405      0.562        200       6884\n",
      "profession                0.772      0.503      0.698        310       6994\n",
      "worked_at                 0.709      0.573      0.677        323       7007\n",
      "------------------    ---------  ---------  ---------  ---------  ---------\n",
      "macro-average             0.763      0.618      0.726      10691     117635\n"
     ]
    }
   ],
   "source": [
    "# Enter your bake-off assessment code in this cell.\n",
    "# Please do not remove this comment.\n",
    "if 'IS_GRADESCOPE_ENV' not in os.environ:\n",
    "    pass\n",
    "    # Please enter your code in the scope of the above conditional.\n",
    "    ##### YOUR CODE HERE\n",
    "    rel_ext_data_home_test = os.path.join(rel_ext_data_home, 'bakeoff-rel_ext-test-data')\n",
    "       \n",
    "    bakeoff_results = run_model(splits, \n",
    "                                train_split='train', \n",
    "                                test_split='dev')\n",
    "    \n",
    "    rel_ext.bake_off_experiment(bakeoff_results, rel_ext_data_home_test)"
   ]
  },
  {
   "cell_type": "code",
   "execution_count": 22,
   "metadata": {},
   "outputs": [],
   "source": [
    "# On an otherwise blank line in this cell, please enter\n",
    "# your macro-average f-score (an F_0.5 score) as reported\n",
    "# by the code above. Please enter only a number between\n",
    "# 0 and 1 inclusive. Please do not remove this comment.\n",
    "if 'IS_GRADESCOPE_ENV' not in os.environ:\n",
    "    pass\n",
    "    # Please enter your score in the scope of the above conditional.\n",
    "    ##### YOUR CODE HERE\n",
    "    0.726\n"
   ]
  }
 ],
 "metadata": {
  "kernelspec": {
   "display_name": "Python 3",
   "language": "python",
   "name": "python3"
  },
  "language_info": {
   "codemirror_mode": {
    "name": "ipython",
    "version": 3
   },
   "file_extension": ".py",
   "mimetype": "text/x-python",
   "name": "python",
   "nbconvert_exporter": "python",
   "pygments_lexer": "ipython3",
   "version": "3.7.9"
  },
  "widgets": {
   "state": {},
   "version": "1.1.2"
  }
 },
 "nbformat": 4,
 "nbformat_minor": 2
}
